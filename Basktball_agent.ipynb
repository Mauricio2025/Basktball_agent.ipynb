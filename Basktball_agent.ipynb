{
  "nbformat": 4,
  "nbformat_minor": 0,
  "metadata": {
    "colab": {
      "provenance": [],
      "authorship_tag": "ABX9TyNyIr+xe7R8eJNINtUdmGUE",
      "include_colab_link": true
    },
    "kernelspec": {
      "name": "python3",
      "display_name": "Python 3"
    },
    "language_info": {
      "name": "python"
    }
  },
  "cells": [
    {
      "cell_type": "markdown",
      "metadata": {
        "id": "view-in-github",
        "colab_type": "text"
      },
      "source": [
        "<a href=\"https://colab.research.google.com/github/Mauricio2025/Basktball_agent.ipynb/blob/main/Basktball_agent.ipynb\" target=\"_parent\"><img src=\"https://colab.research.google.com/assets/colab-badge.svg\" alt=\"Open In Colab\"/></a>"
      ]
    },
    {
      "cell_type": "code",
      "execution_count": null,
      "metadata": {
        "colab": {
          "base_uri": "https://localhost:8080/"
        },
        "id": "z60Y8lyql6LF",
        "outputId": "474b949a-99a3-4fdc-baca-f9dc6117cb99"
      },
      "outputs": [
        {
          "output_type": "stream",
          "name": "stdout",
          "text": [
            "Requirement already satisfied: google-genai in /usr/local/lib/python3.11/dist-packages (1.15.0)\n",
            "Collecting python-dotenv\n",
            "  Downloading python_dotenv-1.1.0-py3-none-any.whl.metadata (24 kB)\n",
            "Requirement already satisfied: anyio<5.0.0,>=4.8.0 in /usr/local/lib/python3.11/dist-packages (from google-genai) (4.9.0)\n",
            "Requirement already satisfied: google-auth<3.0.0,>=2.14.1 in /usr/local/lib/python3.11/dist-packages (from google-genai) (2.38.0)\n",
            "Requirement already satisfied: httpx<1.0.0,>=0.28.1 in /usr/local/lib/python3.11/dist-packages (from google-genai) (0.28.1)\n",
            "Requirement already satisfied: pydantic<3.0.0,>=2.0.0 in /usr/local/lib/python3.11/dist-packages (from google-genai) (2.11.4)\n",
            "Requirement already satisfied: requests<3.0.0,>=2.28.1 in /usr/local/lib/python3.11/dist-packages (from google-genai) (2.32.3)\n",
            "Requirement already satisfied: websockets<15.1.0,>=13.0.0 in /usr/local/lib/python3.11/dist-packages (from google-genai) (15.0.1)\n",
            "Requirement already satisfied: typing-extensions<5.0.0,>=4.11.0 in /usr/local/lib/python3.11/dist-packages (from google-genai) (4.13.2)\n",
            "Requirement already satisfied: idna>=2.8 in /usr/local/lib/python3.11/dist-packages (from anyio<5.0.0,>=4.8.0->google-genai) (3.10)\n",
            "Requirement already satisfied: sniffio>=1.1 in /usr/local/lib/python3.11/dist-packages (from anyio<5.0.0,>=4.8.0->google-genai) (1.3.1)\n",
            "Requirement already satisfied: cachetools<6.0,>=2.0.0 in /usr/local/lib/python3.11/dist-packages (from google-auth<3.0.0,>=2.14.1->google-genai) (5.5.2)\n",
            "Requirement already satisfied: pyasn1-modules>=0.2.1 in /usr/local/lib/python3.11/dist-packages (from google-auth<3.0.0,>=2.14.1->google-genai) (0.4.2)\n",
            "Requirement already satisfied: rsa<5,>=3.1.4 in /usr/local/lib/python3.11/dist-packages (from google-auth<3.0.0,>=2.14.1->google-genai) (4.9.1)\n",
            "Requirement already satisfied: certifi in /usr/local/lib/python3.11/dist-packages (from httpx<1.0.0,>=0.28.1->google-genai) (2025.4.26)\n",
            "Requirement already satisfied: httpcore==1.* in /usr/local/lib/python3.11/dist-packages (from httpx<1.0.0,>=0.28.1->google-genai) (1.0.9)\n",
            "Requirement already satisfied: h11>=0.16 in /usr/local/lib/python3.11/dist-packages (from httpcore==1.*->httpx<1.0.0,>=0.28.1->google-genai) (0.16.0)\n",
            "Requirement already satisfied: annotated-types>=0.6.0 in /usr/local/lib/python3.11/dist-packages (from pydantic<3.0.0,>=2.0.0->google-genai) (0.7.0)\n",
            "Requirement already satisfied: pydantic-core==2.33.2 in /usr/local/lib/python3.11/dist-packages (from pydantic<3.0.0,>=2.0.0->google-genai) (2.33.2)\n",
            "Requirement already satisfied: typing-inspection>=0.4.0 in /usr/local/lib/python3.11/dist-packages (from pydantic<3.0.0,>=2.0.0->google-genai) (0.4.0)\n",
            "Requirement already satisfied: charset-normalizer<4,>=2 in /usr/local/lib/python3.11/dist-packages (from requests<3.0.0,>=2.28.1->google-genai) (3.4.2)\n",
            "Requirement already satisfied: urllib3<3,>=1.21.1 in /usr/local/lib/python3.11/dist-packages (from requests<3.0.0,>=2.28.1->google-genai) (2.4.0)\n",
            "Requirement already satisfied: pyasn1<0.7.0,>=0.6.1 in /usr/local/lib/python3.11/dist-packages (from pyasn1-modules>=0.2.1->google-auth<3.0.0,>=2.14.1->google-genai) (0.6.1)\n",
            "Downloading python_dotenv-1.1.0-py3-none-any.whl (20 kB)\n",
            "Installing collected packages: python-dotenv\n",
            "Successfully installed python-dotenv-1.1.0\n"
          ]
        }
      ],
      "source": [
        "!pip install google-genai python-dotenv"
      ]
    },
    {
      "cell_type": "code",
      "source": [
        "import os\n",
        "\n",
        "# Defina a chave de API diretamente\n",
        "os.environ[\"GOOGLE_API_KEY\"] = \"GOOGLE_API_KEY\""
      ],
      "metadata": {
        "id": "hq1eVriHmGUb"
      },
      "execution_count": null,
      "outputs": []
    },
    {
      "cell_type": "code",
      "source": [
        "import os\n",
        "import datetime\n",
        "from google import genai\n",
        "\n",
        "# Inicializando o cliente com a chave do ambiente\n",
        "api_key = os.getenv(\"GOOGLE_API_KEY\")\n",
        "client = genai.Client(api_key=api_key)\n",
        "\n",
        "# Função para consultar jogos usando a API GenAI\n",
        "def consultar_jogos(consulta):\n",
        "    resposta = client.generate(\n",
        "        model=\"gemini-2\",\n",
        "        prompts=[consulta]\n",
        "    )\n",
        "    return resposta.results[0].output"
      ],
      "metadata": {
        "id": "wgswTz3VmY_w"
      },
      "execution_count": null,
      "outputs": []
    },
    {
      "cell_type": "code",
      "source": [
        "# Funções do agente de basquete\n",
        "\n",
        "def jogos_do_dia():\n",
        "    hoje = datetime.datetime.now().strftime(\"%Y-%m-%d\")\n",
        "    consulta = f\"Quais são os jogos de basquete que acontecem hoje, {hoje}?\"\n",
        "    return consultar_jogos(consulta)\n",
        "\n",
        "def proximos_jogos():\n",
        "    consulta = \"Quais são os jogos de basquete que vão acontecer nos próximos 7 dias?\"\n",
        "    return consultar_jogos(consulta)\n",
        "\n",
        "def favoritos_rodada():\n",
        "    consulta = \"Quais são os favoritos da rodada de hoje na NBA?\"\n",
        "    return consultar_jogos(consulta)\n",
        "\n",
        "def estatisticas_jogo(time1, time2):\n",
        "    consulta = f\"Quais são as estatísticas do confronto entre {time1} e {time2}?\"\n",
        "    return consultar_jogos(consulta)\n",
        "\n",
        "def classificacao_atual():\n",
        "    consulta = \"Qual é a classificação atual da NBA?\"\n",
        "    return consultar_jogos(consulta)\n",
        "\n",
        "def principais_jogadores():\n",
        "    consulta = \"Quais são os principais jogadores desta temporada da NBA?\"\n",
        "    return consultar_jogos(consulta)\n",
        "\n",
        "def noticias_recentes():\n",
        "    consulta = \"Quais são as notícias mais recentes sobre a NBA?\"\n",
        "    return consultar_jogos(consulta)\n"
      ],
      "metadata": {
        "id": "lp_qJB4dmwh0"
      },
      "execution_count": null,
      "outputs": []
    },
    {
      "cell_type": "code",
      "source": [
        "# Menu interativo para testes\n",
        "if __name__ == \"__main__\":\n",
        "    print(\"Agente de Basquete - Menu Principal\")\n",
        "    print(\"1. Jogos do dia\")\n",
        "    print(\"2. Próximos jogos\")\n",
        "    print(\"3. Favoritos da rodada\")\n",
        "    print(\"4. Estatísticas de confronto\")\n",
        "    print(\"5. Classificação atual\")\n",
        "    print(\"6. Principais jogadores\")\n",
        "    print(\"7. Notícias recentes\")\n",
        "    print(\"8. Sair\")\n",
        "\n",
        "    while True:\n",
        "        opcao = input(\"Escolha uma opção: \")\n",
        "        if opcao == \"1\":\n",
        "            print(jogos_do_dia())\n",
        "        elif opcao == \"2\":\n",
        "            print(proximos_jogos())\n",
        "        elif opcao == \"3\":\n",
        "            print(favoritos_rodada())\n",
        "        elif opcao == \"4\":\n",
        "            time1 = input(\"Informe o nome do primeiro time: \")\n",
        "            time2 = input(\"Informe o nome do segundo time: \")\n",
        "            print(estatisticas_jogo(time1, time2))\n",
        "        elif opcao == \"5\":\n",
        "            print(classificacao_atual())\n",
        "        elif opcao == \"6\":\n",
        "            print(principais_jogadores())\n",
        "        elif opcao == \"7\":\n",
        "            print(noticias_recentes())\n",
        "        elif opcao == \"8\":\n",
        "            print(\"Saindo...\")\n",
        "            break\n",
        "        else:\n",
        "            print(\"Opção inválida. Tente novamente.\")\n"
      ],
      "metadata": {
        "colab": {
          "base_uri": "https://localhost:8080/",
          "height": 530
        },
        "id": "xu-w5HZQmyhs",
        "outputId": "c3134bfd-8858-469f-8288-b0edaa1a733e"
      },
      "execution_count": null,
      "outputs": [
        {
          "name": "stdout",
          "output_type": "stream",
          "text": [
            "Agente de Basquete - Menu Principal\n",
            "1. Jogos do dia\n",
            "2. Próximos jogos\n",
            "3. Favoritos da rodada\n",
            "4. Estatísticas de confronto\n",
            "5. Classificação atual\n",
            "6. Principais jogadores\n",
            "7. Notícias recentes\n",
            "8. Sair\n",
            "Escolha uma opção: 5\n"
          ]
        },
        {
          "output_type": "error",
          "ename": "AttributeError",
          "evalue": "'Client' object has no attribute 'generate'",
          "traceback": [
            "\u001b[0;31m---------------------------------------------------------------------------\u001b[0m",
            "\u001b[0;31mAttributeError\u001b[0m                            Traceback (most recent call last)",
            "\u001b[0;32m<ipython-input-5-6ab7c04e6c90>\u001b[0m in \u001b[0;36m<cell line: 0>\u001b[0;34m()\u001b[0m\n\u001b[1;32m     24\u001b[0m             \u001b[0mprint\u001b[0m\u001b[0;34m(\u001b[0m\u001b[0mestatisticas_jogo\u001b[0m\u001b[0;34m(\u001b[0m\u001b[0mtime1\u001b[0m\u001b[0;34m,\u001b[0m \u001b[0mtime2\u001b[0m\u001b[0;34m)\u001b[0m\u001b[0;34m)\u001b[0m\u001b[0;34m\u001b[0m\u001b[0;34m\u001b[0m\u001b[0m\n\u001b[1;32m     25\u001b[0m         \u001b[0;32melif\u001b[0m \u001b[0mopcao\u001b[0m \u001b[0;34m==\u001b[0m \u001b[0;34m\"5\"\u001b[0m\u001b[0;34m:\u001b[0m\u001b[0;34m\u001b[0m\u001b[0;34m\u001b[0m\u001b[0m\n\u001b[0;32m---> 26\u001b[0;31m             \u001b[0mprint\u001b[0m\u001b[0;34m(\u001b[0m\u001b[0mclassificacao_atual\u001b[0m\u001b[0;34m(\u001b[0m\u001b[0;34m)\u001b[0m\u001b[0;34m)\u001b[0m\u001b[0;34m\u001b[0m\u001b[0;34m\u001b[0m\u001b[0m\n\u001b[0m\u001b[1;32m     27\u001b[0m         \u001b[0;32melif\u001b[0m \u001b[0mopcao\u001b[0m \u001b[0;34m==\u001b[0m \u001b[0;34m\"6\"\u001b[0m\u001b[0;34m:\u001b[0m\u001b[0;34m\u001b[0m\u001b[0;34m\u001b[0m\u001b[0m\n\u001b[1;32m     28\u001b[0m             \u001b[0mprint\u001b[0m\u001b[0;34m(\u001b[0m\u001b[0mprincipais_jogadores\u001b[0m\u001b[0;34m(\u001b[0m\u001b[0;34m)\u001b[0m\u001b[0;34m)\u001b[0m\u001b[0;34m\u001b[0m\u001b[0;34m\u001b[0m\u001b[0m\n",
            "\u001b[0;32m<ipython-input-4-b70f7c2f4953>\u001b[0m in \u001b[0;36mclassificacao_atual\u001b[0;34m()\u001b[0m\n\u001b[1;32m     20\u001b[0m \u001b[0;32mdef\u001b[0m \u001b[0mclassificacao_atual\u001b[0m\u001b[0;34m(\u001b[0m\u001b[0;34m)\u001b[0m\u001b[0;34m:\u001b[0m\u001b[0;34m\u001b[0m\u001b[0;34m\u001b[0m\u001b[0m\n\u001b[1;32m     21\u001b[0m     \u001b[0mconsulta\u001b[0m \u001b[0;34m=\u001b[0m \u001b[0;34m\"Qual é a classificação atual da NBA?\"\u001b[0m\u001b[0;34m\u001b[0m\u001b[0;34m\u001b[0m\u001b[0m\n\u001b[0;32m---> 22\u001b[0;31m     \u001b[0;32mreturn\u001b[0m \u001b[0mconsultar_jogos\u001b[0m\u001b[0;34m(\u001b[0m\u001b[0mconsulta\u001b[0m\u001b[0;34m)\u001b[0m\u001b[0;34m\u001b[0m\u001b[0;34m\u001b[0m\u001b[0m\n\u001b[0m\u001b[1;32m     23\u001b[0m \u001b[0;34m\u001b[0m\u001b[0m\n\u001b[1;32m     24\u001b[0m \u001b[0;32mdef\u001b[0m \u001b[0mprincipais_jogadores\u001b[0m\u001b[0;34m(\u001b[0m\u001b[0;34m)\u001b[0m\u001b[0;34m:\u001b[0m\u001b[0;34m\u001b[0m\u001b[0;34m\u001b[0m\u001b[0m\n",
            "\u001b[0;32m<ipython-input-3-6c0a936836e9>\u001b[0m in \u001b[0;36mconsultar_jogos\u001b[0;34m(consulta)\u001b[0m\n\u001b[1;32m      9\u001b[0m \u001b[0;31m# Função para consultar jogos usando a API GenAI\u001b[0m\u001b[0;34m\u001b[0m\u001b[0;34m\u001b[0m\u001b[0m\n\u001b[1;32m     10\u001b[0m \u001b[0;32mdef\u001b[0m \u001b[0mconsultar_jogos\u001b[0m\u001b[0;34m(\u001b[0m\u001b[0mconsulta\u001b[0m\u001b[0;34m)\u001b[0m\u001b[0;34m:\u001b[0m\u001b[0;34m\u001b[0m\u001b[0;34m\u001b[0m\u001b[0m\n\u001b[0;32m---> 11\u001b[0;31m     resposta = client.generate(\n\u001b[0m\u001b[1;32m     12\u001b[0m         \u001b[0mmodel\u001b[0m\u001b[0;34m=\u001b[0m\u001b[0;34m\"gemini-2\"\u001b[0m\u001b[0;34m,\u001b[0m\u001b[0;34m\u001b[0m\u001b[0;34m\u001b[0m\u001b[0m\n\u001b[1;32m     13\u001b[0m         \u001b[0mprompts\u001b[0m\u001b[0;34m=\u001b[0m\u001b[0;34m[\u001b[0m\u001b[0mconsulta\u001b[0m\u001b[0;34m]\u001b[0m\u001b[0;34m\u001b[0m\u001b[0;34m\u001b[0m\u001b[0m\n",
            "\u001b[0;31mAttributeError\u001b[0m: 'Client' object has no attribute 'generate'"
          ]
        }
      ]
    },
    {
      "cell_type": "code",
      "source": [
        "!pip uninstall google-genai -y\n"
      ],
      "metadata": {
        "colab": {
          "base_uri": "https://localhost:8080/"
        },
        "id": "17mkwo2HnEyA",
        "outputId": "4bb20f9f-b965-420a-8c58-1b944fc26549"
      },
      "execution_count": null,
      "outputs": [
        {
          "output_type": "stream",
          "name": "stdout",
          "text": [
            "Found existing installation: google-genai 1.15.0\n",
            "Uninstalling google-genai-1.15.0:\n",
            "  Successfully uninstalled google-genai-1.15.0\n"
          ]
        }
      ]
    },
    {
      "cell_type": "code",
      "source": [
        "!pip install google-genai --upgrade\n"
      ],
      "metadata": {
        "colab": {
          "base_uri": "https://localhost:8080/",
          "height": 603
        },
        "id": "Lsmuea82nIfa",
        "outputId": "b917a014-0bd0-495c-aa66-d29e9e1cbf5e"
      },
      "execution_count": null,
      "outputs": [
        {
          "output_type": "stream",
          "name": "stdout",
          "text": [
            "Collecting google-genai\n",
            "  Downloading google_genai-1.15.0-py3-none-any.whl.metadata (35 kB)\n",
            "Requirement already satisfied: anyio<5.0.0,>=4.8.0 in /usr/local/lib/python3.11/dist-packages (from google-genai) (4.9.0)\n",
            "Requirement already satisfied: google-auth<3.0.0,>=2.14.1 in /usr/local/lib/python3.11/dist-packages (from google-genai) (2.38.0)\n",
            "Requirement already satisfied: httpx<1.0.0,>=0.28.1 in /usr/local/lib/python3.11/dist-packages (from google-genai) (0.28.1)\n",
            "Requirement already satisfied: pydantic<3.0.0,>=2.0.0 in /usr/local/lib/python3.11/dist-packages (from google-genai) (2.11.4)\n",
            "Requirement already satisfied: requests<3.0.0,>=2.28.1 in /usr/local/lib/python3.11/dist-packages (from google-genai) (2.32.3)\n",
            "Requirement already satisfied: websockets<15.1.0,>=13.0.0 in /usr/local/lib/python3.11/dist-packages (from google-genai) (15.0.1)\n",
            "Requirement already satisfied: typing-extensions<5.0.0,>=4.11.0 in /usr/local/lib/python3.11/dist-packages (from google-genai) (4.13.2)\n",
            "Requirement already satisfied: idna>=2.8 in /usr/local/lib/python3.11/dist-packages (from anyio<5.0.0,>=4.8.0->google-genai) (3.10)\n",
            "Requirement already satisfied: sniffio>=1.1 in /usr/local/lib/python3.11/dist-packages (from anyio<5.0.0,>=4.8.0->google-genai) (1.3.1)\n",
            "Requirement already satisfied: cachetools<6.0,>=2.0.0 in /usr/local/lib/python3.11/dist-packages (from google-auth<3.0.0,>=2.14.1->google-genai) (5.5.2)\n",
            "Requirement already satisfied: pyasn1-modules>=0.2.1 in /usr/local/lib/python3.11/dist-packages (from google-auth<3.0.0,>=2.14.1->google-genai) (0.4.2)\n",
            "Requirement already satisfied: rsa<5,>=3.1.4 in /usr/local/lib/python3.11/dist-packages (from google-auth<3.0.0,>=2.14.1->google-genai) (4.9.1)\n",
            "Requirement already satisfied: certifi in /usr/local/lib/python3.11/dist-packages (from httpx<1.0.0,>=0.28.1->google-genai) (2025.4.26)\n",
            "Requirement already satisfied: httpcore==1.* in /usr/local/lib/python3.11/dist-packages (from httpx<1.0.0,>=0.28.1->google-genai) (1.0.9)\n",
            "Requirement already satisfied: h11>=0.16 in /usr/local/lib/python3.11/dist-packages (from httpcore==1.*->httpx<1.0.0,>=0.28.1->google-genai) (0.16.0)\n",
            "Requirement already satisfied: annotated-types>=0.6.0 in /usr/local/lib/python3.11/dist-packages (from pydantic<3.0.0,>=2.0.0->google-genai) (0.7.0)\n",
            "Requirement already satisfied: pydantic-core==2.33.2 in /usr/local/lib/python3.11/dist-packages (from pydantic<3.0.0,>=2.0.0->google-genai) (2.33.2)\n",
            "Requirement already satisfied: typing-inspection>=0.4.0 in /usr/local/lib/python3.11/dist-packages (from pydantic<3.0.0,>=2.0.0->google-genai) (0.4.0)\n",
            "Requirement already satisfied: charset-normalizer<4,>=2 in /usr/local/lib/python3.11/dist-packages (from requests<3.0.0,>=2.28.1->google-genai) (3.4.2)\n",
            "Requirement already satisfied: urllib3<3,>=1.21.1 in /usr/local/lib/python3.11/dist-packages (from requests<3.0.0,>=2.28.1->google-genai) (2.4.0)\n",
            "Requirement already satisfied: pyasn1<0.7.0,>=0.6.1 in /usr/local/lib/python3.11/dist-packages (from pyasn1-modules>=0.2.1->google-auth<3.0.0,>=2.14.1->google-genai) (0.6.1)\n",
            "Downloading google_genai-1.15.0-py3-none-any.whl (171 kB)\n",
            "\u001b[2K   \u001b[90m━━━━━━━━━━━━━━━━━━━━━━━━━━━━━━━━━━━━━━━━\u001b[0m \u001b[32m171.3/171.3 kB\u001b[0m \u001b[31m5.4 MB/s\u001b[0m eta \u001b[36m0:00:00\u001b[0m\n",
            "\u001b[?25hInstalling collected packages: google-genai\n",
            "Successfully installed google-genai-1.15.0\n"
          ]
        },
        {
          "output_type": "display_data",
          "data": {
            "application/vnd.colab-display-data+json": {
              "pip_warning": {
                "packages": [
                  "google"
                ]
              },
              "id": "4f47595789b34229a2beeb17a2ed31ef"
            }
          },
          "metadata": {}
        }
      ]
    },
    {
      "cell_type": "code",
      "source": [
        "import os\n",
        "import datetime\n",
        "from google import genai\n",
        "\n",
        "# Inicializando o cliente com a chave do ambiente\n",
        "api_key = os.getenv(\"GOOGLE_API_KEY\")\n",
        "client = genai.Client(api_key=api_key)\n",
        "\n",
        "# Função para consultar jogos usando a API GenAI\n",
        "def consultar_jogos(consulta):\n",
        "    resposta = client.generate_text(\n",
        "        model=\"gemini-2\",\n",
        "        prompts=[consulta]\n",
        "    )\n",
        "    return resposta.results[0].generated_text\n"
      ],
      "metadata": {
        "id": "tTisiQqHnMZX"
      },
      "execution_count": null,
      "outputs": []
    },
    {
      "cell_type": "code",
      "source": [
        "# Funções do agente de basquete\n",
        "\n",
        "def jogos_do_dia():\n",
        "    hoje = datetime.datetime.now().strftime(\"%Y-%m-%d\")\n",
        "    consulta = f\"Quais são os jogos de basquete que acontecem hoje, {hoje}?\"\n",
        "    return consultar_jogos(consulta)\n",
        "\n",
        "def proximos_jogos():\n",
        "    consulta = \"Quais são os jogos de basquete que vão acontecer nos próximos 7 dias?\"\n",
        "    return consultar_jogos(consulta)\n",
        "\n",
        "def favoritos_rodada():\n",
        "    consulta = \"Quais são os favoritos da rodada de hoje na NBA?\"\n",
        "    return consultar_jogos(consulta)\n",
        "\n",
        "def estatisticas_jogo(time1, time2):\n",
        "    consulta = f\"Quais são as estatísticas do confronto entre {time1} e {time2}?\"\n",
        "    return consultar_jogos(consulta)\n",
        "\n",
        "def classificacao_atual():\n",
        "    consulta = \"Qual é a classificação atual da NBA?\"\n",
        "    return consultar_jogos(consulta)\n",
        "\n",
        "def principais_jogadores():\n",
        "    consulta = \"Quais são os principais jogadores desta temporada da NBA?\"\n",
        "    return consultar_jogos(consulta)\n",
        "\n",
        "def noticias_recentes():\n",
        "    consulta = \"Quais são as notícias mais recentes sobre a NBA?\"\n",
        "    return consultar_jogos(consulta)\n"
      ],
      "metadata": {
        "id": "QKE8BX-YnQDV"
      },
      "execution_count": null,
      "outputs": []
    },
    {
      "cell_type": "code",
      "source": [
        "# Menu interativo para testes\n",
        "if __name__ == \"__main__\":\n",
        "    print(\"Agente de Basquete - Menu Principal\")\n",
        "    print(\"1. Jogos do dia\")\n",
        "    print(\"2. Próximos jogos\")\n",
        "    print(\"3. Favoritos da rodada\")\n",
        "    print(\"4. Estatísticas de confronto\")\n",
        "    print(\"5. Classificação atual\")\n",
        "    print(\"6. Principais jogadores\")\n",
        "    print(\"7. Notícias recentes\")\n",
        "    print(\"8. Sair\")\n",
        "\n",
        "    while True:\n",
        "        opcao = input(\"Escolha uma opção: \")\n",
        "        if opcao == \"1\":\n",
        "            print(jogos_do_dia())\n",
        "        elif opcao == \"2\":\n",
        "            print(proximos_jogos())\n",
        "        elif opcao == \"3\":\n",
        "            print(favoritos_rodada())\n",
        "        elif opcao == \"4\":\n",
        "            time1 = input(\"Informe o nome do primeiro time: \")\n",
        "            time2 = input(\"Informe o nome do segundo time: \")\n",
        "            print(estatisticas_jogo(time1, time2))\n",
        "        elif opcao == \"5\":\n",
        "            print(classificacao_atual())\n",
        "        elif opcao == \"6\":\n",
        "            print(principais_jogadores())\n",
        "        elif opcao == \"7\":\n",
        "            print(noticias_recentes())\n",
        "        elif opcao == \"8\":\n",
        "            print(\"Saindo...\")\n",
        "            break\n",
        "        else:\n",
        "            print(\"Opção inválida. Tente novamente.\")\n"
      ],
      "metadata": {
        "colab": {
          "base_uri": "https://localhost:8080/",
          "height": 530
        },
        "id": "tMtSNjYNnTSs",
        "outputId": "0a73c63e-f710-466d-fbb5-4a5b26330e70"
      },
      "execution_count": null,
      "outputs": [
        {
          "name": "stdout",
          "output_type": "stream",
          "text": [
            "Agente de Basquete - Menu Principal\n",
            "1. Jogos do dia\n",
            "2. Próximos jogos\n",
            "3. Favoritos da rodada\n",
            "4. Estatísticas de confronto\n",
            "5. Classificação atual\n",
            "6. Principais jogadores\n",
            "7. Notícias recentes\n",
            "8. Sair\n",
            "Escolha uma opção: 5\n"
          ]
        },
        {
          "output_type": "error",
          "ename": "AttributeError",
          "evalue": "'Client' object has no attribute 'generate_text'",
          "traceback": [
            "\u001b[0;31m---------------------------------------------------------------------------\u001b[0m",
            "\u001b[0;31mAttributeError\u001b[0m                            Traceback (most recent call last)",
            "\u001b[0;32m<ipython-input-10-6ab7c04e6c90>\u001b[0m in \u001b[0;36m<cell line: 0>\u001b[0;34m()\u001b[0m\n\u001b[1;32m     24\u001b[0m             \u001b[0mprint\u001b[0m\u001b[0;34m(\u001b[0m\u001b[0mestatisticas_jogo\u001b[0m\u001b[0;34m(\u001b[0m\u001b[0mtime1\u001b[0m\u001b[0;34m,\u001b[0m \u001b[0mtime2\u001b[0m\u001b[0;34m)\u001b[0m\u001b[0;34m)\u001b[0m\u001b[0;34m\u001b[0m\u001b[0;34m\u001b[0m\u001b[0m\n\u001b[1;32m     25\u001b[0m         \u001b[0;32melif\u001b[0m \u001b[0mopcao\u001b[0m \u001b[0;34m==\u001b[0m \u001b[0;34m\"5\"\u001b[0m\u001b[0;34m:\u001b[0m\u001b[0;34m\u001b[0m\u001b[0;34m\u001b[0m\u001b[0m\n\u001b[0;32m---> 26\u001b[0;31m             \u001b[0mprint\u001b[0m\u001b[0;34m(\u001b[0m\u001b[0mclassificacao_atual\u001b[0m\u001b[0;34m(\u001b[0m\u001b[0;34m)\u001b[0m\u001b[0;34m)\u001b[0m\u001b[0;34m\u001b[0m\u001b[0;34m\u001b[0m\u001b[0m\n\u001b[0m\u001b[1;32m     27\u001b[0m         \u001b[0;32melif\u001b[0m \u001b[0mopcao\u001b[0m \u001b[0;34m==\u001b[0m \u001b[0;34m\"6\"\u001b[0m\u001b[0;34m:\u001b[0m\u001b[0;34m\u001b[0m\u001b[0;34m\u001b[0m\u001b[0m\n\u001b[1;32m     28\u001b[0m             \u001b[0mprint\u001b[0m\u001b[0;34m(\u001b[0m\u001b[0mprincipais_jogadores\u001b[0m\u001b[0;34m(\u001b[0m\u001b[0;34m)\u001b[0m\u001b[0;34m)\u001b[0m\u001b[0;34m\u001b[0m\u001b[0;34m\u001b[0m\u001b[0m\n",
            "\u001b[0;32m<ipython-input-9-b70f7c2f4953>\u001b[0m in \u001b[0;36mclassificacao_atual\u001b[0;34m()\u001b[0m\n\u001b[1;32m     20\u001b[0m \u001b[0;32mdef\u001b[0m \u001b[0mclassificacao_atual\u001b[0m\u001b[0;34m(\u001b[0m\u001b[0;34m)\u001b[0m\u001b[0;34m:\u001b[0m\u001b[0;34m\u001b[0m\u001b[0;34m\u001b[0m\u001b[0m\n\u001b[1;32m     21\u001b[0m     \u001b[0mconsulta\u001b[0m \u001b[0;34m=\u001b[0m \u001b[0;34m\"Qual é a classificação atual da NBA?\"\u001b[0m\u001b[0;34m\u001b[0m\u001b[0;34m\u001b[0m\u001b[0m\n\u001b[0;32m---> 22\u001b[0;31m     \u001b[0;32mreturn\u001b[0m \u001b[0mconsultar_jogos\u001b[0m\u001b[0;34m(\u001b[0m\u001b[0mconsulta\u001b[0m\u001b[0;34m)\u001b[0m\u001b[0;34m\u001b[0m\u001b[0;34m\u001b[0m\u001b[0m\n\u001b[0m\u001b[1;32m     23\u001b[0m \u001b[0;34m\u001b[0m\u001b[0m\n\u001b[1;32m     24\u001b[0m \u001b[0;32mdef\u001b[0m \u001b[0mprincipais_jogadores\u001b[0m\u001b[0;34m(\u001b[0m\u001b[0;34m)\u001b[0m\u001b[0;34m:\u001b[0m\u001b[0;34m\u001b[0m\u001b[0;34m\u001b[0m\u001b[0m\n",
            "\u001b[0;32m<ipython-input-8-50e9be32d187>\u001b[0m in \u001b[0;36mconsultar_jogos\u001b[0;34m(consulta)\u001b[0m\n\u001b[1;32m      9\u001b[0m \u001b[0;31m# Função para consultar jogos usando a API GenAI\u001b[0m\u001b[0;34m\u001b[0m\u001b[0;34m\u001b[0m\u001b[0m\n\u001b[1;32m     10\u001b[0m \u001b[0;32mdef\u001b[0m \u001b[0mconsultar_jogos\u001b[0m\u001b[0;34m(\u001b[0m\u001b[0mconsulta\u001b[0m\u001b[0;34m)\u001b[0m\u001b[0;34m:\u001b[0m\u001b[0;34m\u001b[0m\u001b[0;34m\u001b[0m\u001b[0m\n\u001b[0;32m---> 11\u001b[0;31m     resposta = client.generate_text(\n\u001b[0m\u001b[1;32m     12\u001b[0m         \u001b[0mmodel\u001b[0m\u001b[0;34m=\u001b[0m\u001b[0;34m\"gemini-2\"\u001b[0m\u001b[0;34m,\u001b[0m\u001b[0;34m\u001b[0m\u001b[0;34m\u001b[0m\u001b[0m\n\u001b[1;32m     13\u001b[0m         \u001b[0mprompts\u001b[0m\u001b[0;34m=\u001b[0m\u001b[0;34m[\u001b[0m\u001b[0mconsulta\u001b[0m\u001b[0;34m]\u001b[0m\u001b[0;34m\u001b[0m\u001b[0;34m\u001b[0m\u001b[0m\n",
            "\u001b[0;31mAttributeError\u001b[0m: 'Client' object has no attribute 'generate_text'"
          ]
        }
      ]
    },
    {
      "cell_type": "code",
      "source": [
        "# Instalar a versão mais recente do SDK GenAI\n",
        "!pip install --upgrade google-genai python-dotenv\n",
        "\n",
        "# Imports necessários\n",
        "import os\n",
        "import datetime\n",
        "from google import genai\n",
        "from dotenv import load_dotenv\n"
      ],
      "metadata": {
        "colab": {
          "base_uri": "https://localhost:8080/"
        },
        "id": "KgD0EyhKnlHt",
        "outputId": "38ab3e79-010f-464d-b1f3-c36fcf9d6ec0"
      },
      "execution_count": null,
      "outputs": [
        {
          "output_type": "stream",
          "name": "stdout",
          "text": [
            "Requirement already satisfied: google-genai in /usr/local/lib/python3.11/dist-packages (1.15.0)\n",
            "Requirement already satisfied: python-dotenv in /usr/local/lib/python3.11/dist-packages (1.1.0)\n",
            "Requirement already satisfied: anyio<5.0.0,>=4.8.0 in /usr/local/lib/python3.11/dist-packages (from google-genai) (4.9.0)\n",
            "Requirement already satisfied: google-auth<3.0.0,>=2.14.1 in /usr/local/lib/python3.11/dist-packages (from google-genai) (2.38.0)\n",
            "Requirement already satisfied: httpx<1.0.0,>=0.28.1 in /usr/local/lib/python3.11/dist-packages (from google-genai) (0.28.1)\n",
            "Requirement already satisfied: pydantic<3.0.0,>=2.0.0 in /usr/local/lib/python3.11/dist-packages (from google-genai) (2.11.4)\n",
            "Requirement already satisfied: requests<3.0.0,>=2.28.1 in /usr/local/lib/python3.11/dist-packages (from google-genai) (2.32.3)\n",
            "Requirement already satisfied: websockets<15.1.0,>=13.0.0 in /usr/local/lib/python3.11/dist-packages (from google-genai) (15.0.1)\n",
            "Requirement already satisfied: typing-extensions<5.0.0,>=4.11.0 in /usr/local/lib/python3.11/dist-packages (from google-genai) (4.13.2)\n",
            "Requirement already satisfied: idna>=2.8 in /usr/local/lib/python3.11/dist-packages (from anyio<5.0.0,>=4.8.0->google-genai) (3.10)\n",
            "Requirement already satisfied: sniffio>=1.1 in /usr/local/lib/python3.11/dist-packages (from anyio<5.0.0,>=4.8.0->google-genai) (1.3.1)\n",
            "Requirement already satisfied: cachetools<6.0,>=2.0.0 in /usr/local/lib/python3.11/dist-packages (from google-auth<3.0.0,>=2.14.1->google-genai) (5.5.2)\n",
            "Requirement already satisfied: pyasn1-modules>=0.2.1 in /usr/local/lib/python3.11/dist-packages (from google-auth<3.0.0,>=2.14.1->google-genai) (0.4.2)\n",
            "Requirement already satisfied: rsa<5,>=3.1.4 in /usr/local/lib/python3.11/dist-packages (from google-auth<3.0.0,>=2.14.1->google-genai) (4.9.1)\n",
            "Requirement already satisfied: certifi in /usr/local/lib/python3.11/dist-packages (from httpx<1.0.0,>=0.28.1->google-genai) (2025.4.26)\n",
            "Requirement already satisfied: httpcore==1.* in /usr/local/lib/python3.11/dist-packages (from httpx<1.0.0,>=0.28.1->google-genai) (1.0.9)\n",
            "Requirement already satisfied: h11>=0.16 in /usr/local/lib/python3.11/dist-packages (from httpcore==1.*->httpx<1.0.0,>=0.28.1->google-genai) (0.16.0)\n",
            "Requirement already satisfied: annotated-types>=0.6.0 in /usr/local/lib/python3.11/dist-packages (from pydantic<3.0.0,>=2.0.0->google-genai) (0.7.0)\n",
            "Requirement already satisfied: pydantic-core==2.33.2 in /usr/local/lib/python3.11/dist-packages (from pydantic<3.0.0,>=2.0.0->google-genai) (2.33.2)\n",
            "Requirement already satisfied: typing-inspection>=0.4.0 in /usr/local/lib/python3.11/dist-packages (from pydantic<3.0.0,>=2.0.0->google-genai) (0.4.0)\n",
            "Requirement already satisfied: charset-normalizer<4,>=2 in /usr/local/lib/python3.11/dist-packages (from requests<3.0.0,>=2.28.1->google-genai) (3.4.2)\n",
            "Requirement already satisfied: urllib3<3,>=1.21.1 in /usr/local/lib/python3.11/dist-packages (from requests<3.0.0,>=2.28.1->google-genai) (2.4.0)\n",
            "Requirement already satisfied: pyasn1<0.7.0,>=0.6.1 in /usr/local/lib/python3.11/dist-packages (from pyasn1-modules>=0.2.1->google-auth<3.0.0,>=2.14.1->google-genai) (0.6.1)\n"
          ]
        }
      ]
    },
    {
      "cell_type": "code",
      "source": [
        "# Carregar chave do .env (ou defina diretamente em Colab via os.environ)\n",
        "load_dotenv()\n",
        "api_key = os.getenv(\"GOOGLE_API_KEY\")\n",
        "\n",
        "# Inicialização CORRETA do cliente\n",
        "client = genai.Client(api_key=api_key)\n",
        "\n",
        "# Alteração principal: usar client.models.generate_content(...) em vez de client.generate / client.generate_text\n",
        "def consultar_jogos(consulta):\n",
        "    resposta = client.models.generate_content(           # ← método CORRETO :contentReference[oaicite:0]{index=0}\n",
        "        model=\"gemini-2.0-flash\",                        # você pode trocar por outro modelo disponível\n",
        "        contents=[consulta]                              # lista de prompts\n",
        "    )\n",
        "    return resposta.text                                 # ← acessar .text em vez de .results\n"
      ],
      "metadata": {
        "id": "95U7sIOBnom8"
      },
      "execution_count": null,
      "outputs": []
    },
    {
      "cell_type": "code",
      "source": [
        "# Funções principais do agente de basquete (sem alterações além da chamada a consultar_jogos)\n",
        "def jogos_do_dia():\n",
        "    hoje = datetime.datetime.now().strftime(\"%Y-%m-%d\")\n",
        "    return consultar_jogos(f\"Quais são os jogos de basquete que acontecem hoje, {hoje}?\")\n",
        "\n",
        "def proximos_jogos():\n",
        "    return consultar_jogos(\"Quais são os jogos de basquete que vão acontecer nos próximos 7 dias?\")\n",
        "\n",
        "def favoritos_rodada():\n",
        "    return consultar_jogos(\"Quais são os favoritos da rodada de hoje na NBA?\")\n",
        "\n",
        "def estatisticas_jogo(time1, time2):\n",
        "    return consultar_jogos(f\"Quais são as estatísticas do confronto entre {time1} e {time2}?\")\n",
        "\n",
        "def classificacao_atual():\n",
        "    return consultar_jogos(\"Qual é a classificação atual da NBA?\")\n",
        "\n",
        "def principais_jogadores():\n",
        "    return consultar_jogos(\"Quais são os principais jogadores desta temporada da NBA?\")\n",
        "\n",
        "def noticias_recentes():\n",
        "    return consultar_jogos(\"Quais são as notícias mais recentes sobre a NBA?\")\n",
        "\n",
        "# Menu de testes\n",
        "if __name__ == \"__main__\":\n",
        "    print(\"Agente de Basquete - Menu Principal\")\n",
        "    print(\"1. Jogos do dia\")\n",
        "    print(\"2. Próximos jogos\")\n",
        "    print(\"3. Favoritos da rodada\")\n",
        "    print(\"4. Estatísticas de confronto\")\n",
        "    print(\"5. Classificação atual\")\n",
        "    print(\"6. Principais jogadores\")\n",
        "    print(\"7. Notícias recentes\")\n",
        "    print(\"8. Sair\")\n",
        "\n",
        "    while True:\n",
        "        opcao = input(\"Escolha uma opção: \")\n",
        "        if opcao == \"1\":\n",
        "            print(jogos_do_dia())\n",
        "        elif opcao == \"2\":\n",
        "            print(proximos_jogos())\n",
        "        elif opcao == \"3\":\n",
        "            print(favoritos_rodada())\n",
        "        elif opcao == \"4\":\n",
        "            t1 = input(\"Informe o nome do primeiro time: \")\n",
        "            t2 = input(\"Informe o nome do segundo time: \")\n",
        "            print(estatisticas_jogo(t1, t2))\n",
        "        elif opcao == \"5\":\n",
        "            print(classificacao_atual())\n",
        "        elif opcao == \"6\":\n",
        "            print(principais_jogadores())\n",
        "        elif opcao == \"7\":\n",
        "            print(noticias_recentes())\n",
        "        elif opcao == \"8\":\n",
        "            print(\"Saindo...\")\n",
        "            break\n",
        "        else:\n",
        "            print(\"Opção inválida. Tente novamente.\")\n"
      ],
      "metadata": {
        "colab": {
          "base_uri": "https://localhost:8080/",
          "height": 582
        },
        "id": "0xDIH4zXnrLG",
        "outputId": "bfc217cc-b965-4c86-b449-818e766d7cd9"
      },
      "execution_count": null,
      "outputs": [
        {
          "name": "stdout",
          "output_type": "stream",
          "text": [
            "Agente de Basquete - Menu Principal\n",
            "1. Jogos do dia\n",
            "2. Próximos jogos\n",
            "3. Favoritos da rodada\n",
            "4. Estatísticas de confronto\n",
            "5. Classificação atual\n",
            "6. Principais jogadores\n",
            "7. Notícias recentes\n",
            "8. Sair\n",
            "Escolha uma opção: 5\n"
          ]
        },
        {
          "output_type": "error",
          "ename": "ClientError",
          "evalue": "400 INVALID_ARGUMENT. {'error': {'code': 400, 'message': 'API key not valid. Please pass a valid API key.', 'status': 'INVALID_ARGUMENT', 'details': [{'@type': 'type.googleapis.com/google.rpc.ErrorInfo', 'reason': 'API_KEY_INVALID', 'domain': 'googleapis.com', 'metadata': {'service': 'generativelanguage.googleapis.com'}}, {'@type': 'type.googleapis.com/google.rpc.LocalizedMessage', 'locale': 'en-US', 'message': 'API key not valid. Please pass a valid API key.'}]}}",
          "traceback": [
            "\u001b[0;31m---------------------------------------------------------------------------\u001b[0m",
            "\u001b[0;31mClientError\u001b[0m                               Traceback (most recent call last)",
            "\u001b[0;32m<ipython-input-13-c290c0918026>\u001b[0m in \u001b[0;36m<cell line: 0>\u001b[0;34m()\u001b[0m\n\u001b[1;32m     47\u001b[0m             \u001b[0mprint\u001b[0m\u001b[0;34m(\u001b[0m\u001b[0mestatisticas_jogo\u001b[0m\u001b[0;34m(\u001b[0m\u001b[0mt1\u001b[0m\u001b[0;34m,\u001b[0m \u001b[0mt2\u001b[0m\u001b[0;34m)\u001b[0m\u001b[0;34m)\u001b[0m\u001b[0;34m\u001b[0m\u001b[0;34m\u001b[0m\u001b[0m\n\u001b[1;32m     48\u001b[0m         \u001b[0;32melif\u001b[0m \u001b[0mopcao\u001b[0m \u001b[0;34m==\u001b[0m \u001b[0;34m\"5\"\u001b[0m\u001b[0;34m:\u001b[0m\u001b[0;34m\u001b[0m\u001b[0;34m\u001b[0m\u001b[0m\n\u001b[0;32m---> 49\u001b[0;31m             \u001b[0mprint\u001b[0m\u001b[0;34m(\u001b[0m\u001b[0mclassificacao_atual\u001b[0m\u001b[0;34m(\u001b[0m\u001b[0;34m)\u001b[0m\u001b[0;34m)\u001b[0m\u001b[0;34m\u001b[0m\u001b[0;34m\u001b[0m\u001b[0m\n\u001b[0m\u001b[1;32m     50\u001b[0m         \u001b[0;32melif\u001b[0m \u001b[0mopcao\u001b[0m \u001b[0;34m==\u001b[0m \u001b[0;34m\"6\"\u001b[0m\u001b[0;34m:\u001b[0m\u001b[0;34m\u001b[0m\u001b[0;34m\u001b[0m\u001b[0m\n\u001b[1;32m     51\u001b[0m             \u001b[0mprint\u001b[0m\u001b[0;34m(\u001b[0m\u001b[0mprincipais_jogadores\u001b[0m\u001b[0;34m(\u001b[0m\u001b[0;34m)\u001b[0m\u001b[0;34m)\u001b[0m\u001b[0;34m\u001b[0m\u001b[0;34m\u001b[0m\u001b[0m\n",
            "\u001b[0;32m<ipython-input-13-c290c0918026>\u001b[0m in \u001b[0;36mclassificacao_atual\u001b[0;34m()\u001b[0m\n\u001b[1;32m     14\u001b[0m \u001b[0;34m\u001b[0m\u001b[0m\n\u001b[1;32m     15\u001b[0m \u001b[0;32mdef\u001b[0m \u001b[0mclassificacao_atual\u001b[0m\u001b[0;34m(\u001b[0m\u001b[0;34m)\u001b[0m\u001b[0;34m:\u001b[0m\u001b[0;34m\u001b[0m\u001b[0;34m\u001b[0m\u001b[0m\n\u001b[0;32m---> 16\u001b[0;31m     \u001b[0;32mreturn\u001b[0m \u001b[0mconsultar_jogos\u001b[0m\u001b[0;34m(\u001b[0m\u001b[0;34m\"Qual é a classificação atual da NBA?\"\u001b[0m\u001b[0;34m)\u001b[0m\u001b[0;34m\u001b[0m\u001b[0;34m\u001b[0m\u001b[0m\n\u001b[0m\u001b[1;32m     17\u001b[0m \u001b[0;34m\u001b[0m\u001b[0m\n\u001b[1;32m     18\u001b[0m \u001b[0;32mdef\u001b[0m \u001b[0mprincipais_jogadores\u001b[0m\u001b[0;34m(\u001b[0m\u001b[0;34m)\u001b[0m\u001b[0;34m:\u001b[0m\u001b[0;34m\u001b[0m\u001b[0;34m\u001b[0m\u001b[0m\n",
            "\u001b[0;32m<ipython-input-12-bc1fd060b610>\u001b[0m in \u001b[0;36mconsultar_jogos\u001b[0;34m(consulta)\u001b[0m\n\u001b[1;32m      8\u001b[0m \u001b[0;31m# Alteração principal: usar client.models.generate_content(...) em vez de client.generate / client.generate_text\u001b[0m\u001b[0;34m\u001b[0m\u001b[0;34m\u001b[0m\u001b[0m\n\u001b[1;32m      9\u001b[0m \u001b[0;32mdef\u001b[0m \u001b[0mconsultar_jogos\u001b[0m\u001b[0;34m(\u001b[0m\u001b[0mconsulta\u001b[0m\u001b[0;34m)\u001b[0m\u001b[0;34m:\u001b[0m\u001b[0;34m\u001b[0m\u001b[0;34m\u001b[0m\u001b[0m\n\u001b[0;32m---> 10\u001b[0;31m     resposta = client.models.generate_content(           # ← método CORRETO :contentReference[oaicite:0]{index=0}\n\u001b[0m\u001b[1;32m     11\u001b[0m         \u001b[0mmodel\u001b[0m\u001b[0;34m=\u001b[0m\u001b[0;34m\"gemini-2.0-flash\"\u001b[0m\u001b[0;34m,\u001b[0m                        \u001b[0;31m# você pode trocar por outro modelo disponível\u001b[0m\u001b[0;34m\u001b[0m\u001b[0;34m\u001b[0m\u001b[0m\n\u001b[1;32m     12\u001b[0m         \u001b[0mcontents\u001b[0m\u001b[0;34m=\u001b[0m\u001b[0;34m[\u001b[0m\u001b[0mconsulta\u001b[0m\u001b[0;34m]\u001b[0m                              \u001b[0;31m# lista de prompts\u001b[0m\u001b[0;34m\u001b[0m\u001b[0;34m\u001b[0m\u001b[0m\n",
            "\u001b[0;32m/usr/local/lib/python3.11/dist-packages/google/genai/models.py\u001b[0m in \u001b[0;36mgenerate_content\u001b[0;34m(self, model, contents, config)\u001b[0m\n\u001b[1;32m   5200\u001b[0m     \u001b[0;32mwhile\u001b[0m \u001b[0mremaining_remote_calls_afc\u001b[0m \u001b[0;34m>\u001b[0m \u001b[0;36m0\u001b[0m\u001b[0;34m:\u001b[0m\u001b[0;34m\u001b[0m\u001b[0;34m\u001b[0m\u001b[0m\n\u001b[1;32m   5201\u001b[0m       \u001b[0mi\u001b[0m \u001b[0;34m+=\u001b[0m \u001b[0;36m1\u001b[0m\u001b[0;34m\u001b[0m\u001b[0;34m\u001b[0m\u001b[0m\n\u001b[0;32m-> 5202\u001b[0;31m       response = self._generate_content(\n\u001b[0m\u001b[1;32m   5203\u001b[0m           \u001b[0mmodel\u001b[0m\u001b[0;34m=\u001b[0m\u001b[0mmodel\u001b[0m\u001b[0;34m,\u001b[0m \u001b[0mcontents\u001b[0m\u001b[0;34m=\u001b[0m\u001b[0mcontents\u001b[0m\u001b[0;34m,\u001b[0m \u001b[0mconfig\u001b[0m\u001b[0;34m=\u001b[0m\u001b[0mconfig\u001b[0m\u001b[0;34m\u001b[0m\u001b[0;34m\u001b[0m\u001b[0m\n\u001b[1;32m   5204\u001b[0m       )\n",
            "\u001b[0;32m/usr/local/lib/python3.11/dist-packages/google/genai/models.py\u001b[0m in \u001b[0;36m_generate_content\u001b[0;34m(self, model, contents, config)\u001b[0m\n\u001b[1;32m   4176\u001b[0m     \u001b[0mrequest_dict\u001b[0m \u001b[0;34m=\u001b[0m \u001b[0m_common\u001b[0m\u001b[0;34m.\u001b[0m\u001b[0mencode_unserializable_types\u001b[0m\u001b[0;34m(\u001b[0m\u001b[0mrequest_dict\u001b[0m\u001b[0;34m)\u001b[0m\u001b[0;34m\u001b[0m\u001b[0;34m\u001b[0m\u001b[0m\n\u001b[1;32m   4177\u001b[0m \u001b[0;34m\u001b[0m\u001b[0m\n\u001b[0;32m-> 4178\u001b[0;31m     response_dict = self._api_client.request(\n\u001b[0m\u001b[1;32m   4179\u001b[0m         \u001b[0;34m'post'\u001b[0m\u001b[0;34m,\u001b[0m \u001b[0mpath\u001b[0m\u001b[0;34m,\u001b[0m \u001b[0mrequest_dict\u001b[0m\u001b[0;34m,\u001b[0m \u001b[0mhttp_options\u001b[0m\u001b[0;34m\u001b[0m\u001b[0;34m\u001b[0m\u001b[0m\n\u001b[1;32m   4180\u001b[0m     )\n",
            "\u001b[0;32m/usr/local/lib/python3.11/dist-packages/google/genai/_api_client.py\u001b[0m in \u001b[0;36mrequest\u001b[0;34m(self, http_method, path, request_dict, http_options)\u001b[0m\n\u001b[1;32m    753\u001b[0m         \u001b[0mhttp_method\u001b[0m\u001b[0;34m,\u001b[0m \u001b[0mpath\u001b[0m\u001b[0;34m,\u001b[0m \u001b[0mrequest_dict\u001b[0m\u001b[0;34m,\u001b[0m \u001b[0mhttp_options\u001b[0m\u001b[0;34m\u001b[0m\u001b[0;34m\u001b[0m\u001b[0m\n\u001b[1;32m    754\u001b[0m     )\n\u001b[0;32m--> 755\u001b[0;31m     \u001b[0mresponse\u001b[0m \u001b[0;34m=\u001b[0m \u001b[0mself\u001b[0m\u001b[0;34m.\u001b[0m\u001b[0m_request\u001b[0m\u001b[0;34m(\u001b[0m\u001b[0mhttp_request\u001b[0m\u001b[0;34m,\u001b[0m \u001b[0mstream\u001b[0m\u001b[0;34m=\u001b[0m\u001b[0;32mFalse\u001b[0m\u001b[0;34m)\u001b[0m\u001b[0;34m\u001b[0m\u001b[0;34m\u001b[0m\u001b[0m\n\u001b[0m\u001b[1;32m    756\u001b[0m     \u001b[0mjson_response\u001b[0m \u001b[0;34m=\u001b[0m \u001b[0mresponse\u001b[0m\u001b[0;34m.\u001b[0m\u001b[0mjson\u001b[0m\u001b[0;34m\u001b[0m\u001b[0;34m\u001b[0m\u001b[0m\n\u001b[1;32m    757\u001b[0m     \u001b[0;32mif\u001b[0m \u001b[0;32mnot\u001b[0m \u001b[0mjson_response\u001b[0m\u001b[0;34m:\u001b[0m\u001b[0;34m\u001b[0m\u001b[0;34m\u001b[0m\u001b[0m\n",
            "\u001b[0;32m/usr/local/lib/python3.11/dist-packages/google/genai/_api_client.py\u001b[0m in \u001b[0;36m_request\u001b[0;34m(self, http_request, stream)\u001b[0m\n\u001b[1;32m    682\u001b[0m           \u001b[0mtimeout\u001b[0m\u001b[0;34m=\u001b[0m\u001b[0mhttp_request\u001b[0m\u001b[0;34m.\u001b[0m\u001b[0mtimeout\u001b[0m\u001b[0;34m,\u001b[0m\u001b[0;34m\u001b[0m\u001b[0;34m\u001b[0m\u001b[0m\n\u001b[1;32m    683\u001b[0m       )\n\u001b[0;32m--> 684\u001b[0;31m       \u001b[0merrors\u001b[0m\u001b[0;34m.\u001b[0m\u001b[0mAPIError\u001b[0m\u001b[0;34m.\u001b[0m\u001b[0mraise_for_response\u001b[0m\u001b[0;34m(\u001b[0m\u001b[0mresponse\u001b[0m\u001b[0;34m)\u001b[0m\u001b[0;34m\u001b[0m\u001b[0;34m\u001b[0m\u001b[0m\n\u001b[0m\u001b[1;32m    685\u001b[0m       return HttpResponse(\n\u001b[1;32m    686\u001b[0m           \u001b[0mresponse\u001b[0m\u001b[0;34m.\u001b[0m\u001b[0mheaders\u001b[0m\u001b[0;34m,\u001b[0m \u001b[0mresponse\u001b[0m \u001b[0;32mif\u001b[0m \u001b[0mstream\u001b[0m \u001b[0;32melse\u001b[0m \u001b[0;34m[\u001b[0m\u001b[0mresponse\u001b[0m\u001b[0;34m.\u001b[0m\u001b[0mtext\u001b[0m\u001b[0;34m]\u001b[0m\u001b[0;34m\u001b[0m\u001b[0;34m\u001b[0m\u001b[0m\n",
            "\u001b[0;32m/usr/local/lib/python3.11/dist-packages/google/genai/errors.py\u001b[0m in \u001b[0;36mraise_for_response\u001b[0;34m(cls, response)\u001b[0m\n\u001b[1;32m     99\u001b[0m     \u001b[0mstatus_code\u001b[0m \u001b[0;34m=\u001b[0m \u001b[0mresponse\u001b[0m\u001b[0;34m.\u001b[0m\u001b[0mstatus_code\u001b[0m\u001b[0;34m\u001b[0m\u001b[0;34m\u001b[0m\u001b[0m\n\u001b[1;32m    100\u001b[0m     \u001b[0;32mif\u001b[0m \u001b[0;36m400\u001b[0m \u001b[0;34m<=\u001b[0m \u001b[0mstatus_code\u001b[0m \u001b[0;34m<\u001b[0m \u001b[0;36m500\u001b[0m\u001b[0;34m:\u001b[0m\u001b[0;34m\u001b[0m\u001b[0;34m\u001b[0m\u001b[0m\n\u001b[0;32m--> 101\u001b[0;31m       \u001b[0;32mraise\u001b[0m \u001b[0mClientError\u001b[0m\u001b[0;34m(\u001b[0m\u001b[0mstatus_code\u001b[0m\u001b[0;34m,\u001b[0m \u001b[0mresponse_json\u001b[0m\u001b[0;34m,\u001b[0m \u001b[0mresponse\u001b[0m\u001b[0;34m)\u001b[0m\u001b[0;34m\u001b[0m\u001b[0;34m\u001b[0m\u001b[0m\n\u001b[0m\u001b[1;32m    102\u001b[0m     \u001b[0;32melif\u001b[0m \u001b[0;36m500\u001b[0m \u001b[0;34m<=\u001b[0m \u001b[0mstatus_code\u001b[0m \u001b[0;34m<\u001b[0m \u001b[0;36m600\u001b[0m\u001b[0;34m:\u001b[0m\u001b[0;34m\u001b[0m\u001b[0;34m\u001b[0m\u001b[0m\n\u001b[1;32m    103\u001b[0m       \u001b[0;32mraise\u001b[0m \u001b[0mServerError\u001b[0m\u001b[0;34m(\u001b[0m\u001b[0mstatus_code\u001b[0m\u001b[0;34m,\u001b[0m \u001b[0mresponse_json\u001b[0m\u001b[0;34m,\u001b[0m \u001b[0mresponse\u001b[0m\u001b[0;34m)\u001b[0m\u001b[0;34m\u001b[0m\u001b[0;34m\u001b[0m\u001b[0m\n",
            "\u001b[0;31mClientError\u001b[0m: 400 INVALID_ARGUMENT. {'error': {'code': 400, 'message': 'API key not valid. Please pass a valid API key.', 'status': 'INVALID_ARGUMENT', 'details': [{'@type': 'type.googleapis.com/google.rpc.ErrorInfo', 'reason': 'API_KEY_INVALID', 'domain': 'googleapis.com', 'metadata': {'service': 'generativelanguage.googleapis.com'}}, {'@type': 'type.googleapis.com/google.rpc.LocalizedMessage', 'locale': 'en-US', 'message': 'API key not valid. Please pass a valid API key.'}]}}"
          ]
        }
      ]
    },
    {
      "cell_type": "code",
      "source": [
        "!pip show google-genai\n"
      ],
      "metadata": {
        "colab": {
          "base_uri": "https://localhost:8080/"
        },
        "id": "p-mi5L9Knz6R",
        "outputId": "9a8d119d-b967-423b-bba7-7fb57be8364c"
      },
      "execution_count": null,
      "outputs": [
        {
          "output_type": "stream",
          "name": "stdout",
          "text": [
            "Name: google-genai\n",
            "Version: 1.15.0\n",
            "Summary: GenAI Python SDK\n",
            "Home-page: https://github.com/googleapis/python-genai\n",
            "Author: \n",
            "Author-email: Google LLC <googleapis-packages@google.com>\n",
            "License: Apache-2.0\n",
            "Location: /usr/local/lib/python3.11/dist-packages\n",
            "Requires: anyio, google-auth, httpx, pydantic, requests, typing-extensions, websockets\n",
            "Required-by: google-cloud-aiplatform\n"
          ]
        }
      ]
    },
    {
      "cell_type": "code",
      "source": [
        "# Rode no topo do notebook Colab\n",
        "!pip install --upgrade google-genai python-dotenv\n"
      ],
      "metadata": {
        "colab": {
          "base_uri": "https://localhost:8080/"
        },
        "id": "K8xfEtC6n_qV",
        "outputId": "5885357b-81a6-4cf8-a557-813f0683ed86"
      },
      "execution_count": null,
      "outputs": [
        {
          "output_type": "stream",
          "name": "stdout",
          "text": [
            "Requirement already satisfied: google-genai in /usr/local/lib/python3.11/dist-packages (1.15.0)\n",
            "Requirement already satisfied: python-dotenv in /usr/local/lib/python3.11/dist-packages (1.1.0)\n",
            "Requirement already satisfied: anyio<5.0.0,>=4.8.0 in /usr/local/lib/python3.11/dist-packages (from google-genai) (4.9.0)\n",
            "Requirement already satisfied: google-auth<3.0.0,>=2.14.1 in /usr/local/lib/python3.11/dist-packages (from google-genai) (2.38.0)\n",
            "Requirement already satisfied: httpx<1.0.0,>=0.28.1 in /usr/local/lib/python3.11/dist-packages (from google-genai) (0.28.1)\n",
            "Requirement already satisfied: pydantic<3.0.0,>=2.0.0 in /usr/local/lib/python3.11/dist-packages (from google-genai) (2.11.4)\n",
            "Requirement already satisfied: requests<3.0.0,>=2.28.1 in /usr/local/lib/python3.11/dist-packages (from google-genai) (2.32.3)\n",
            "Requirement already satisfied: websockets<15.1.0,>=13.0.0 in /usr/local/lib/python3.11/dist-packages (from google-genai) (15.0.1)\n",
            "Requirement already satisfied: typing-extensions<5.0.0,>=4.11.0 in /usr/local/lib/python3.11/dist-packages (from google-genai) (4.13.2)\n",
            "Requirement already satisfied: idna>=2.8 in /usr/local/lib/python3.11/dist-packages (from anyio<5.0.0,>=4.8.0->google-genai) (3.10)\n",
            "Requirement already satisfied: sniffio>=1.1 in /usr/local/lib/python3.11/dist-packages (from anyio<5.0.0,>=4.8.0->google-genai) (1.3.1)\n",
            "Requirement already satisfied: cachetools<6.0,>=2.0.0 in /usr/local/lib/python3.11/dist-packages (from google-auth<3.0.0,>=2.14.1->google-genai) (5.5.2)\n",
            "Requirement already satisfied: pyasn1-modules>=0.2.1 in /usr/local/lib/python3.11/dist-packages (from google-auth<3.0.0,>=2.14.1->google-genai) (0.4.2)\n",
            "Requirement already satisfied: rsa<5,>=3.1.4 in /usr/local/lib/python3.11/dist-packages (from google-auth<3.0.0,>=2.14.1->google-genai) (4.9.1)\n",
            "Requirement already satisfied: certifi in /usr/local/lib/python3.11/dist-packages (from httpx<1.0.0,>=0.28.1->google-genai) (2025.4.26)\n",
            "Requirement already satisfied: httpcore==1.* in /usr/local/lib/python3.11/dist-packages (from httpx<1.0.0,>=0.28.1->google-genai) (1.0.9)\n",
            "Requirement already satisfied: h11>=0.16 in /usr/local/lib/python3.11/dist-packages (from httpcore==1.*->httpx<1.0.0,>=0.28.1->google-genai) (0.16.0)\n",
            "Requirement already satisfied: annotated-types>=0.6.0 in /usr/local/lib/python3.11/dist-packages (from pydantic<3.0.0,>=2.0.0->google-genai) (0.7.0)\n",
            "Requirement already satisfied: pydantic-core==2.33.2 in /usr/local/lib/python3.11/dist-packages (from pydantic<3.0.0,>=2.0.0->google-genai) (2.33.2)\n",
            "Requirement already satisfied: typing-inspection>=0.4.0 in /usr/local/lib/python3.11/dist-packages (from pydantic<3.0.0,>=2.0.0->google-genai) (0.4.0)\n",
            "Requirement already satisfied: charset-normalizer<4,>=2 in /usr/local/lib/python3.11/dist-packages (from requests<3.0.0,>=2.28.1->google-genai) (3.4.2)\n",
            "Requirement already satisfied: urllib3<3,>=1.21.1 in /usr/local/lib/python3.11/dist-packages (from requests<3.0.0,>=2.28.1->google-genai) (2.4.0)\n",
            "Requirement already satisfied: pyasn1<0.7.0,>=0.6.1 in /usr/local/lib/python3.11/dist-packages (from pyasn1-modules>=0.2.1->google-auth<3.0.0,>=2.14.1->google-genai) (0.6.1)\n"
          ]
        }
      ]
    },
    {
      "cell_type": "code",
      "source": [
        "from google.colab import userdata\n",
        "os.environ[\"GOOGLE_API_KEY\"] = userdata.get(\"GOOGLE_API_KEY\")\n"
      ],
      "metadata": {
        "id": "T3cc54e8oC5M"
      },
      "execution_count": null,
      "outputs": []
    },
    {
      "cell_type": "code",
      "source": [
        "import datetime\n",
        "from google import genai\n",
        "from dotenv import load_dotenv\n",
        "\n",
        "# (Opcional) Carregar de .env, se você subir um\n",
        "load_dotenv()\n",
        "api_key = os.getenv(\"GOOGLE_API_KEY\")\n",
        "\n",
        "# Inicializa o client corretamente\n",
        "client = genai.Client(api_key=api_key)\n",
        "\n",
        "def consultar_jogos(consulta: str) -> str:\n",
        "    # Usa o método correto do SDK: client.models.generate_content(...)\n",
        "    resposta = client.models.generate_content(       # ← método síncrono :contentReference[oaicite:0]{index=0}\n",
        "        model=\"gemini-2.0-flash\",                    # modelo disponível\n",
        "        contents=consulta                            # prompt como string\n",
        "    )\n",
        "    return resposta.text                             # texto gerado\n"
      ],
      "metadata": {
        "id": "tFjdUcAboEa3"
      },
      "execution_count": null,
      "outputs": []
    },
    {
      "cell_type": "code",
      "source": [
        "def jogos_do_dia() -> str:\n",
        "    hoje = datetime.datetime.now().strftime(\"%Y-%m-%d\")\n",
        "    return consultar_jogos(f\"Quais são os jogos de basquete que acontecem hoje, {hoje}?\")\n",
        "\n",
        "def proximos_jogos() -> str:\n",
        "    return consultar_jogos(\"Quais são os jogos de basquete que vão acontecer nos próximos 7 dias?\")\n",
        "\n",
        "def favoritos_rodada() -> str:\n",
        "    return consultar_jogos(\"Quais são os favoritos da rodada de hoje na NBA?\")\n",
        "\n",
        "def estatisticas_jogo(time1: str, time2: str) -> str:\n",
        "    return consultar_jogos(f\"Quais são as estatísticas do confronto entre {time1} e {time2}?\")\n",
        "\n",
        "def classificacao_atual() -> str:\n",
        "    return consultar_jogos(\"Qual é a classificação atual da NBA?\")\n",
        "\n",
        "def principais_jogadores() -> str:\n",
        "    return consultar_jogos(\"Quais são os principais jogadores desta temporada da NBA?\")\n",
        "\n",
        "def noticias_recentes() -> str:\n",
        "    return consultar_jogos(\"Quais são as notícias mais recentes sobre a NBA?\")\n"
      ],
      "metadata": {
        "id": "7NbvgSK6oGnw"
      },
      "execution_count": null,
      "outputs": []
    },
    {
      "cell_type": "code",
      "source": [
        "if __name__ == \"__main__\":\n",
        "    menu = [\n",
        "        \"1. Jogos do dia\",\n",
        "        \"2. Próximos jogos\",\n",
        "        \"3. Favoritos da rodada\",\n",
        "        \"4. Estatísticas de confronto\",\n",
        "        \"5. Classificação atual\",\n",
        "        \"6. Principais jogadores\",\n",
        "        \"7. Notícias recentes\",\n",
        "        \"8. Sair\"\n",
        "    ]\n",
        "    print(\"Agente de Basquete - Menu Principal\")\n",
        "    print(\"\\n\".join(menu))\n",
        "\n",
        "    while True:\n",
        "        opcao = input(\"Escolha uma opção: \").strip()\n",
        "        if opcao == \"1\":\n",
        "            print(jogos_do_dia())\n",
        "        elif opcao == \"2\":\n",
        "            print(proximos_jogos())\n",
        "        elif opcao == \"3\":\n",
        "            print(favoritos_rodada())\n",
        "        elif opcao == \"4\":\n",
        "            t1 = input(\"Time 1: \")\n",
        "            t2 = input(\"Time 2: \")\n",
        "            print(estatisticas_jogo(t1, t2))\n",
        "        elif opcao == \"5\":\n",
        "            print(classificacao_atual())\n",
        "        elif opcao == \"6\":\n",
        "            print(principais_jogadores())\n",
        "        elif opcao == \"7\":\n",
        "            print(noticias_recentes())\n",
        "        elif opcao == \"8\":\n",
        "            print(\"Saindo...\")\n",
        "            break\n",
        "        else:\n",
        "            print(\"Opção inválida. Tente novamente.\")\n"
      ],
      "metadata": {
        "colab": {
          "base_uri": "https://localhost:8080/",
          "height": 706
        },
        "id": "rJqoaTo5oI8y",
        "outputId": "59ee1165-03c5-4870-ede1-65efbb478100"
      },
      "execution_count": null,
      "outputs": [
        {
          "output_type": "stream",
          "name": "stdout",
          "text": [
            "Agente de Basquete - Menu Principal\n",
            "1. Jogos do dia\n",
            "2. Próximos jogos\n",
            "3. Favoritos da rodada\n",
            "4. Estatísticas de confronto\n",
            "5. Classificação atual\n",
            "6. Principais jogadores\n",
            "7. Notícias recentes\n",
            "8. Sair\n",
            "Escolha uma opção: 5\n",
            "As classificações da NBA mudam constantemente ao longo da temporada. Para te dar a informação mais precisa, preciso que você especifique qual classificação você quer saber. Por favor, me diga:\n",
            "\n",
            "*   **Qual conferência você quer (Leste ou Oeste)?**\n",
            "*   **Você quer a classificação geral ou alguma divisão específica (ex: Divisão Atlântico)?**\n",
            "*   **Você quer a classificação atualizada de hoje ou de algum dia específico no passado?**\n",
            "\n",
            "Com essas informações, posso te fornecer a classificação exata que você procura!\n",
            "Escolha uma opção: Leste, Geral e Atualizada\n",
            "Opção inválida. Tente novamente.\n"
          ]
        },
        {
          "output_type": "error",
          "ename": "KeyboardInterrupt",
          "evalue": "Interrupted by user",
          "traceback": [
            "\u001b[0;31m---------------------------------------------------------------------------\u001b[0m",
            "\u001b[0;31mKeyboardInterrupt\u001b[0m                         Traceback (most recent call last)",
            "\u001b[0;32m<ipython-input-19-966a98a4472b>\u001b[0m in \u001b[0;36m<cell line: 0>\u001b[0;34m()\u001b[0m\n\u001b[1;32m     14\u001b[0m \u001b[0;34m\u001b[0m\u001b[0m\n\u001b[1;32m     15\u001b[0m     \u001b[0;32mwhile\u001b[0m \u001b[0;32mTrue\u001b[0m\u001b[0;34m:\u001b[0m\u001b[0;34m\u001b[0m\u001b[0;34m\u001b[0m\u001b[0m\n\u001b[0;32m---> 16\u001b[0;31m         \u001b[0mopcao\u001b[0m \u001b[0;34m=\u001b[0m \u001b[0minput\u001b[0m\u001b[0;34m(\u001b[0m\u001b[0;34m\"Escolha uma opção: \"\u001b[0m\u001b[0;34m)\u001b[0m\u001b[0;34m.\u001b[0m\u001b[0mstrip\u001b[0m\u001b[0;34m(\u001b[0m\u001b[0;34m)\u001b[0m\u001b[0;34m\u001b[0m\u001b[0;34m\u001b[0m\u001b[0m\n\u001b[0m\u001b[1;32m     17\u001b[0m         \u001b[0;32mif\u001b[0m \u001b[0mopcao\u001b[0m \u001b[0;34m==\u001b[0m \u001b[0;34m\"1\"\u001b[0m\u001b[0;34m:\u001b[0m\u001b[0;34m\u001b[0m\u001b[0;34m\u001b[0m\u001b[0m\n\u001b[1;32m     18\u001b[0m             \u001b[0mprint\u001b[0m\u001b[0;34m(\u001b[0m\u001b[0mjogos_do_dia\u001b[0m\u001b[0;34m(\u001b[0m\u001b[0;34m)\u001b[0m\u001b[0;34m)\u001b[0m\u001b[0;34m\u001b[0m\u001b[0;34m\u001b[0m\u001b[0m\n",
            "\u001b[0;32m/usr/local/lib/python3.11/dist-packages/ipykernel/kernelbase.py\u001b[0m in \u001b[0;36mraw_input\u001b[0;34m(self, prompt)\u001b[0m\n\u001b[1;32m   1175\u001b[0m                 \u001b[0;34m\"raw_input was called, but this frontend does not support input requests.\"\u001b[0m\u001b[0;34m\u001b[0m\u001b[0;34m\u001b[0m\u001b[0m\n\u001b[1;32m   1176\u001b[0m             )\n\u001b[0;32m-> 1177\u001b[0;31m         return self._input_request(\n\u001b[0m\u001b[1;32m   1178\u001b[0m             \u001b[0mstr\u001b[0m\u001b[0;34m(\u001b[0m\u001b[0mprompt\u001b[0m\u001b[0;34m)\u001b[0m\u001b[0;34m,\u001b[0m\u001b[0;34m\u001b[0m\u001b[0;34m\u001b[0m\u001b[0m\n\u001b[1;32m   1179\u001b[0m             \u001b[0mself\u001b[0m\u001b[0;34m.\u001b[0m\u001b[0m_parent_ident\u001b[0m\u001b[0;34m[\u001b[0m\u001b[0;34m\"shell\"\u001b[0m\u001b[0;34m]\u001b[0m\u001b[0;34m,\u001b[0m\u001b[0;34m\u001b[0m\u001b[0;34m\u001b[0m\u001b[0m\n",
            "\u001b[0;32m/usr/local/lib/python3.11/dist-packages/ipykernel/kernelbase.py\u001b[0m in \u001b[0;36m_input_request\u001b[0;34m(self, prompt, ident, parent, password)\u001b[0m\n\u001b[1;32m   1217\u001b[0m             \u001b[0;32mexcept\u001b[0m \u001b[0mKeyboardInterrupt\u001b[0m\u001b[0;34m:\u001b[0m\u001b[0;34m\u001b[0m\u001b[0;34m\u001b[0m\u001b[0m\n\u001b[1;32m   1218\u001b[0m                 \u001b[0;31m# re-raise KeyboardInterrupt, to truncate traceback\u001b[0m\u001b[0;34m\u001b[0m\u001b[0;34m\u001b[0m\u001b[0m\n\u001b[0;32m-> 1219\u001b[0;31m                 \u001b[0;32mraise\u001b[0m \u001b[0mKeyboardInterrupt\u001b[0m\u001b[0;34m(\u001b[0m\u001b[0;34m\"Interrupted by user\"\u001b[0m\u001b[0;34m)\u001b[0m \u001b[0;32mfrom\u001b[0m \u001b[0;32mNone\u001b[0m\u001b[0;34m\u001b[0m\u001b[0;34m\u001b[0m\u001b[0m\n\u001b[0m\u001b[1;32m   1220\u001b[0m             \u001b[0;32mexcept\u001b[0m \u001b[0mException\u001b[0m\u001b[0;34m:\u001b[0m\u001b[0;34m\u001b[0m\u001b[0;34m\u001b[0m\u001b[0m\n\u001b[1;32m   1221\u001b[0m                 \u001b[0mself\u001b[0m\u001b[0;34m.\u001b[0m\u001b[0mlog\u001b[0m\u001b[0;34m.\u001b[0m\u001b[0mwarning\u001b[0m\u001b[0;34m(\u001b[0m\u001b[0;34m\"Invalid Message:\"\u001b[0m\u001b[0;34m,\u001b[0m \u001b[0mexc_info\u001b[0m\u001b[0;34m=\u001b[0m\u001b[0;32mTrue\u001b[0m\u001b[0;34m)\u001b[0m\u001b[0;34m\u001b[0m\u001b[0;34m\u001b[0m\u001b[0m\n",
            "\u001b[0;31mKeyboardInterrupt\u001b[0m: Interrupted by user"
          ]
        }
      ]
    },
    {
      "cell_type": "code",
      "source": [
        "from functools import lru_cache\n",
        "\n",
        "@lru_cache(maxsize=32)\n",
        "def consultar_jogos(consulta: str) -> str:\n",
        "    try:\n",
        "        resposta = client.models.generate_content(\n",
        "            model=\"gemini-2.0-flash\",\n",
        "            contents=consulta\n",
        "        )\n",
        "        return resposta.text\n",
        "    except Exception as e:\n",
        "        return f\"❌ Erro na API: {e}\"\n"
      ],
      "metadata": {
        "id": "4ow8kh5To21H"
      },
      "execution_count": null,
      "outputs": []
    },
    {
      "cell_type": "code",
      "source": [
        "def jogos_por_time(time: str) -> str:\n",
        "    return consultar_jogos(\n",
        "        f\"Quais são os jogos de basquete do time \\\"{time}\\\" nos próximos 7 dias?\"\n",
        "    )\n",
        "\n",
        "def jogos_por_data(data: str) -> str:\n",
        "    return consultar_jogos(\n",
        "        f\"Quais são os jogos de basquete na data {data}?\"\n",
        "    )\n",
        "\n",
        "def estatisticas_jogador(jogador: str) -> str:\n",
        "    return consultar_jogos(\n",
        "        f\"Quais são as estatísticas de {jogador} na temporada atual da NBA?\"\n",
        "    )\n",
        "\n",
        "def ranking_times() -> str:\n",
        "    return consultar_jogos(\n",
        "        \"Qual é o ranking atual dos times na NBA?\"\n",
        "    )\n",
        "\n",
        "def definir_time_favorito(time: str) -> str:\n",
        "    os.environ[\"TIME_FAVORITO\"] = time\n",
        "    return f\"⭐ Time favorito definido para: {time}\"\n"
      ],
      "metadata": {
        "id": "6Du9Trloo9TZ"
      },
      "execution_count": null,
      "outputs": []
    },
    {
      "cell_type": "code",
      "source": [
        "if __name__ == \"__main__\":\n",
        "    opções = [\n",
        "        \"1. Jogos do dia\",\n",
        "        \"2. Próximos jogos\",\n",
        "        \"3. Favoritos da rodada\",\n",
        "        \"4. Estatísticas de confronto\",\n",
        "        \"5. Classificação atual\",\n",
        "        \"6. Principais jogadores\",\n",
        "        \"7. Notícias recentes\",\n",
        "        \"8. Jogos por time\",\n",
        "        \"9. Jogos por data\",\n",
        "        \"10. Estatísticas de jogador\",\n",
        "        \"11. Ranking de times\",\n",
        "        \"12. Definir time favorito\",\n",
        "        \"13. Sair\"\n",
        "    ]\n",
        "    print(\"===== Agente de Basquete =====\")\n",
        "    print(\"\\n\".join(opções))\n",
        "\n",
        "    while True:\n",
        "        escolha = input(\"\\nEscolha uma opção: \").strip()\n",
        "        if escolha == \"1\":\n",
        "            res = jogos_do_dia()\n",
        "        elif escolha == \"2\":\n",
        "            res = proximos_jogos()\n",
        "        elif escolha == \"3\":\n",
        "            res = favoritos_rodada()\n",
        "        elif escolha == \"4\":\n",
        "            t1 = input(\"Time 1: \"); t2 = input(\"Time 2: \")\n",
        "            res = estatisticas_jogo(t1, t2)\n",
        "        elif escolha == \"5\":\n",
        "            res = classificacao_atual()\n",
        "        elif escolha == \"6\":\n",
        "            res = principais_jogadores()\n",
        "        elif escolha == \"7\":\n",
        "            res = noticias_recentes()\n",
        "        elif escolha == \"8\":\n",
        "            time = input(\"Informe o time: \")\n",
        "            res = jogos_por_time(time)\n",
        "        elif escolha == \"9\":\n",
        "            data = input(\"Informe a data (YYYY-MM-DD): \")\n",
        "            res = jogos_por_data(data)\n",
        "        elif escolha == \"10\":\n",
        "            jog = input(\"Nome do jogador: \")\n",
        "            res = estatisticas_jogador(jog)\n",
        "        elif escolha == \"11\":\n",
        "            res = ranking_times()\n",
        "        elif escolha == \"12\":\n",
        "            fav = input(\"Seu time favorito: \")\n",
        "            res = definir_time_favorito(fav)\n",
        "        elif escolha == \"13\":\n",
        "            print(\"👋 Até a próxima!\")\n",
        "            break\n",
        "        else:\n",
        "            res = \"⚠️ Opção inválida.\"\n",
        "\n",
        "        # Formatação de saída\n",
        "        print(\"\\n=== Resultado ===\")\n",
        "        print(res)\n",
        "        print(\"=================\\n\")\n"
      ],
      "metadata": {
        "colab": {
          "base_uri": "https://localhost:8080/",
          "height": 1000
        },
        "id": "GxkfzJrso_35",
        "outputId": "6f05aaa7-33ea-4b32-ca7a-74f1e26f28dc"
      },
      "execution_count": null,
      "outputs": [
        {
          "output_type": "stream",
          "name": "stdout",
          "text": [
            "===== Agente de Basquete =====\n",
            "1. Jogos do dia\n",
            "2. Próximos jogos\n",
            "3. Favoritos da rodada\n",
            "4. Estatísticas de confronto\n",
            "5. Classificação atual\n",
            "6. Principais jogadores\n",
            "7. Notícias recentes\n",
            "8. Jogos por time\n",
            "9. Jogos por data\n",
            "10. Estatísticas de jogador\n",
            "11. Ranking de times\n",
            "12. Definir time favorito\n",
            "13. Sair\n",
            "\n",
            "Escolha uma opção: 11\n",
            "\n",
            "=== Resultado ===\n",
            "O ranking da NBA muda constantemente ao longo da temporada, pois depende do desempenho de cada time em seus jogos. Para saber o ranking **atualizado em tempo real**, recomendo consultar os seguintes sites:\n",
            "\n",
            "*   **NBA.com:** O site oficial da NBA ([https://www.nba.com/standings](https://www.nba.com/standings)) é a fonte mais confiável.\n",
            "*   **ESPN:** A ESPN também oferece rankings atualizados com frequência ([https://www.espn.com.br/nba/tabela](https://www.espn.com.br/nba/tabela)).\n",
            "\n",
            "Esses sites geralmente fornecem os rankings divididos por conferência (Leste e Oeste) e também informações adicionais como aproveitamento, jogos de diferença para o líder, etc.\n",
            "=================\n",
            "\n",
            "\n",
            "Escolha uma opção: Leste\n",
            "\n",
            "=== Resultado ===\n",
            "⚠️ Opção inválida.\n",
            "=================\n",
            "\n",
            "\n",
            "Escolha uma opção: 2\n",
            "\n",
            "=== Resultado ===\n",
            "Para te dar uma lista precisa dos jogos de basquete dos próximos 7 dias, preciso de mais algumas informações:\n",
            "\n",
            "*   **Qual a liga/competição te interessa?** (NBA, NCAA, ligas europeias, ligas sul-americanas, etc.)\n",
            "*   **Você tem alguma preferência por times ou países?**\n",
            "\n",
            "Com essas informações, posso consultar sites de resultados esportivos (como ESPN, NBA.com, etc.) e te fornecer uma lista relevante.\n",
            "\n",
            "Se você estiver interessado na NBA, por exemplo, posso te dar uma lista geral dos jogos nos próximos 7 dias.\n",
            "\n",
            "**Exemplo (NBA):**\n",
            "\n",
            "Para obter a programação atualizada da NBA, você pode consultar o site oficial da NBA ([https://www.nba.com/schedule](https://www.nba.com/schedule)) ou outros sites de esportes como ESPN ou Bleacher Report. Lá você encontrará datas, horários e informações sobre transmissões.\n",
            "\n",
            "Por favor, me diga qual liga/competição te interessa para que eu possa te ajudar melhor!\n",
            "=================\n",
            "\n",
            "\n",
            "Escolha uma opção: NBA, USA\n",
            "\n",
            "=== Resultado ===\n",
            "⚠️ Opção inválida.\n",
            "=================\n",
            "\n",
            "\n",
            "Escolha uma opção: NBA\n",
            "\n",
            "=== Resultado ===\n",
            "⚠️ Opção inválida.\n",
            "=================\n",
            "\n",
            "\n",
            "Escolha uma opção: 4\n",
            "Time 1: Chicago Bulls\n",
            "Time 2: Denver\n",
            "\n",
            "=== Resultado ===\n",
            "Para fornecer as estatísticas do confronto entre Chicago Bulls e Denver Nuggets, preciso definir que tipo de estatísticas você busca. Aqui estão algumas opções e como posso te ajudar com cada uma:\n",
            "\n",
            "**1. Histórico Geral de Confrontos:**\n",
            "\n",
            "*   **Posso fornecer:** O número total de jogos que cada time venceu no confronto direto na temporada regular e nos playoffs, se houver.\n",
            "*   **Como usar:** Essa é a estatística mais básica para entender qual time tem uma vantagem histórica no confronto.\n",
            "\n",
            "**2. Resultados Recentes:**\n",
            "\n",
            "*   **Posso fornecer:** Os resultados dos últimos 5 ou 10 jogos entre as equipes, incluindo datas e placares.\n",
            "*   **Como usar:** Isso ajuda a entender o desempenho recente de cada time no confronto direto, indicando quem tem se saído melhor ultimamente.\n",
            "\n",
            "**3. Estatísticas da Temporada Atual (se aplicável):**\n",
            "\n",
            "*   **Posso fornecer:** As estatísticas dos jogos da temporada atual entre as equipes, incluindo placar, estatísticas de jogadores (pontos, rebotes, assistências, etc.) e estatísticas da equipe (arremessos de quadra, arremessos de 3 pontos, lances livres, etc.).\n",
            "*   **Como usar:** Essencial para análises mais detalhadas dos jogos mais recentes.\n",
            "\n",
            "**4. Estatísticas Específicas (se você tiver algo em mente):**\n",
            "\n",
            "*   Exemplos: Maior pontuação de um jogador em um jogo entre os dois times, média de pontos em confrontos, etc.\n",
            "*   **Como usar:** Para análises muito específicas ou para responder a uma pergunta particular sobre o confronto.\n",
            "\n",
            "**Para me ajudar a te fornecer a informação mais útil, por favor, especifique quais estatísticas você gostaria de ver. Por exemplo:**\n",
            "\n",
            "*   \"Qual o histórico geral de vitórias entre Bulls e Nuggets?\"\n",
            "*   \"Quais foram os resultados dos últimos 5 jogos entre os dois times?\"\n",
            "*   \"Quais foram as estatísticas do último jogo entre Bulls e Nuggets nesta temporada?\"\n",
            "\n",
            "Com essa informação, posso pesquisar e te dar os dados relevantes!\n",
            "\n",
            "=================\n",
            "\n",
            "\n",
            "Escolha uma opção: 10\n",
            "Nome do jogador: Lebron James\n",
            "\n",
            "=== Resultado ===\n",
            "As estatísticas de LeBron James na temporada 2023-2024 da NBA são as seguintes (até 21 de Janeiro de 2024):\n",
            "\n",
            "*   **Pontos por jogo (PPG):** 24.9\n",
            "*   **Rebotes por jogo (RPG):** 7.6\n",
            "*   **Assistências por jogo (APG):** 7.7\n",
            "*   **Roubos de bola por jogo (SPG):** 1.3\n",
            "*   **Blocos por jogo (BPG):** 0.7\n",
            "*   **Percentual de arremessos de quadra (FG%):** 52.2%\n",
            "*   **Percentual de arremessos de três pontos (3P%):** 39.7%\n",
            "*   **Percentual de lances livres (FT%):** 71.0%\n",
            "*   **Minutos por jogo (MPG):** 34.7\n",
            "\n",
            "É importante notar que essas estatísticas podem mudar ao longo da temporada. Para informações sempre atualizadas, consulte o site oficial da NBA (NBA.com) ou outros sites de estatísticas esportivas confiáveis como ESPN ou Basketball Reference.\n",
            "=================\n",
            "\n"
          ]
        },
        {
          "output_type": "error",
          "ename": "KeyboardInterrupt",
          "evalue": "Interrupted by user",
          "traceback": [
            "\u001b[0;31m---------------------------------------------------------------------------\u001b[0m",
            "\u001b[0;31mKeyboardInterrupt\u001b[0m                         Traceback (most recent call last)",
            "\u001b[0;32m<ipython-input-25-e87271a15403>\u001b[0m in \u001b[0;36m<cell line: 0>\u001b[0;34m()\u001b[0m\n\u001b[1;32m     19\u001b[0m \u001b[0;34m\u001b[0m\u001b[0m\n\u001b[1;32m     20\u001b[0m     \u001b[0;32mwhile\u001b[0m \u001b[0;32mTrue\u001b[0m\u001b[0;34m:\u001b[0m\u001b[0;34m\u001b[0m\u001b[0;34m\u001b[0m\u001b[0m\n\u001b[0;32m---> 21\u001b[0;31m         \u001b[0mescolha\u001b[0m \u001b[0;34m=\u001b[0m \u001b[0minput\u001b[0m\u001b[0;34m(\u001b[0m\u001b[0;34m\"\\nEscolha uma opção: \"\u001b[0m\u001b[0;34m)\u001b[0m\u001b[0;34m.\u001b[0m\u001b[0mstrip\u001b[0m\u001b[0;34m(\u001b[0m\u001b[0;34m)\u001b[0m\u001b[0;34m\u001b[0m\u001b[0;34m\u001b[0m\u001b[0m\n\u001b[0m\u001b[1;32m     22\u001b[0m         \u001b[0;32mif\u001b[0m \u001b[0mescolha\u001b[0m \u001b[0;34m==\u001b[0m \u001b[0;34m\"1\"\u001b[0m\u001b[0;34m:\u001b[0m\u001b[0;34m\u001b[0m\u001b[0;34m\u001b[0m\u001b[0m\n\u001b[1;32m     23\u001b[0m             \u001b[0mres\u001b[0m \u001b[0;34m=\u001b[0m \u001b[0mjogos_do_dia\u001b[0m\u001b[0;34m(\u001b[0m\u001b[0;34m)\u001b[0m\u001b[0;34m\u001b[0m\u001b[0;34m\u001b[0m\u001b[0m\n",
            "\u001b[0;32m/usr/local/lib/python3.11/dist-packages/ipykernel/kernelbase.py\u001b[0m in \u001b[0;36mraw_input\u001b[0;34m(self, prompt)\u001b[0m\n\u001b[1;32m   1175\u001b[0m                 \u001b[0;34m\"raw_input was called, but this frontend does not support input requests.\"\u001b[0m\u001b[0;34m\u001b[0m\u001b[0;34m\u001b[0m\u001b[0m\n\u001b[1;32m   1176\u001b[0m             )\n\u001b[0;32m-> 1177\u001b[0;31m         return self._input_request(\n\u001b[0m\u001b[1;32m   1178\u001b[0m             \u001b[0mstr\u001b[0m\u001b[0;34m(\u001b[0m\u001b[0mprompt\u001b[0m\u001b[0;34m)\u001b[0m\u001b[0;34m,\u001b[0m\u001b[0;34m\u001b[0m\u001b[0;34m\u001b[0m\u001b[0m\n\u001b[1;32m   1179\u001b[0m             \u001b[0mself\u001b[0m\u001b[0;34m.\u001b[0m\u001b[0m_parent_ident\u001b[0m\u001b[0;34m[\u001b[0m\u001b[0;34m\"shell\"\u001b[0m\u001b[0;34m]\u001b[0m\u001b[0;34m,\u001b[0m\u001b[0;34m\u001b[0m\u001b[0;34m\u001b[0m\u001b[0m\n",
            "\u001b[0;32m/usr/local/lib/python3.11/dist-packages/ipykernel/kernelbase.py\u001b[0m in \u001b[0;36m_input_request\u001b[0;34m(self, prompt, ident, parent, password)\u001b[0m\n\u001b[1;32m   1217\u001b[0m             \u001b[0;32mexcept\u001b[0m \u001b[0mKeyboardInterrupt\u001b[0m\u001b[0;34m:\u001b[0m\u001b[0;34m\u001b[0m\u001b[0;34m\u001b[0m\u001b[0m\n\u001b[1;32m   1218\u001b[0m                 \u001b[0;31m# re-raise KeyboardInterrupt, to truncate traceback\u001b[0m\u001b[0;34m\u001b[0m\u001b[0;34m\u001b[0m\u001b[0m\n\u001b[0;32m-> 1219\u001b[0;31m                 \u001b[0;32mraise\u001b[0m \u001b[0mKeyboardInterrupt\u001b[0m\u001b[0;34m(\u001b[0m\u001b[0;34m\"Interrupted by user\"\u001b[0m\u001b[0;34m)\u001b[0m \u001b[0;32mfrom\u001b[0m \u001b[0;32mNone\u001b[0m\u001b[0;34m\u001b[0m\u001b[0;34m\u001b[0m\u001b[0m\n\u001b[0m\u001b[1;32m   1220\u001b[0m             \u001b[0;32mexcept\u001b[0m \u001b[0mException\u001b[0m\u001b[0;34m:\u001b[0m\u001b[0;34m\u001b[0m\u001b[0;34m\u001b[0m\u001b[0m\n\u001b[1;32m   1221\u001b[0m                 \u001b[0mself\u001b[0m\u001b[0;34m.\u001b[0m\u001b[0mlog\u001b[0m\u001b[0;34m.\u001b[0m\u001b[0mwarning\u001b[0m\u001b[0;34m(\u001b[0m\u001b[0;34m\"Invalid Message:\"\u001b[0m\u001b[0;34m,\u001b[0m \u001b[0mexc_info\u001b[0m\u001b[0;34m=\u001b[0m\u001b[0;32mTrue\u001b[0m\u001b[0;34m)\u001b[0m\u001b[0;34m\u001b[0m\u001b[0;34m\u001b[0m\u001b[0m\n",
            "\u001b[0;31mKeyboardInterrupt\u001b[0m: Interrupted by user"
          ]
        }
      ]
    }
  ]
}